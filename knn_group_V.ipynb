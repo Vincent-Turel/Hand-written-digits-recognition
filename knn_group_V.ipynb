{
 "cells": [
  {
   "cell_type": "markdown",
   "metadata": {},
   "source": [
    "# CS405 Data Mining\n",
    "## Mélanie Moal, Bastien Fournier, Vincent Turel, Julien Whitfield\n",
    "### 25 november 2021"
   ]
  },
  {
   "cell_type": "markdown",
   "metadata": {},
   "source": [
    "## KNN"
   ]
  },
  {
   "cell_type": "code",
   "execution_count": 54,
   "metadata": {},
   "outputs": [],
   "source": [
    "import numpy as np\n",
    "import pandas as pd\n",
    "import matplotlib.pyplot as plt\n",
    "from keras.datasets import mnist\n",
    "from sklearn.neighbors import KNeighborsClassifier\n",
    "from sklearn.metrics import confusion_matrix, accuracy_score, classification_report, roc_auc_score\n",
    "import random\n",
    "from sklearn.neighbors import KNeighborsClassifier\n",
    "from sklearn.metrics import confusion_matrix"
   ]
  },
  {
   "cell_type": "code",
   "execution_count": 58,
   "metadata": {},
   "outputs": [
    {
     "name": "stdout",
     "output_type": "stream",
     "text": [
      "(60000, 28, 28)\n",
      "(60000,)\n",
      "(10000, 28, 28)\n",
      "(10000,)\n",
      "(5000, 784)\n",
      "(2000, 784)\n",
      "(60000, 784)\n",
      "(10000, 784)\n"
     ]
    }
   ],
   "source": [
    "# preprocessing of the data\n",
    "\n",
    "(train_images, train_labels),(test_images,test_labels)=mnist.load_data()\n",
    "#print(data.shape)\n",
    "\n",
    "print(train_images.shape)\n",
    "print(train_labels.shape)\n",
    "print(test_images.shape)\n",
    "print(test_labels.shape)\n",
    "\n",
    "# reshaping : training set contains 60000 and the validation set contains 10000 images\n",
    "train_images=train_images.reshape((60000,28*28))\n",
    "test_images=test_images.reshape((10000,28*28))\n",
    "\n",
    "x = random.randrange(55000)\n",
    "y = random.randrange(8000)\n",
    "train_images_k = train_images[x:x+5000]\n",
    "train_labels_k = train_labels[x:x+5000]\n",
    "test_images_k = test_images[y:y+2000]\n",
    "test_labels_k = test_labels[y:y+2000]\n",
    "\n",
    "print(train_images_k.shape)\n",
    "print(test_images_k.shape)\n",
    "print(train_images.shape)\n",
    "print(test_images.shape)"
   ]
  },
  {
   "cell_type": "code",
   "execution_count": 60,
   "metadata": {},
   "outputs": [
    {
     "name": "stdout",
     "output_type": "stream",
     "text": [
      "Begin KNN with k= 1\n",
      "Begin KNN with k= 2\n",
      "Begin KNN with k= 3\n",
      "Begin KNN with k= 4\n",
      "Begin KNN with k= 5\n",
      "Begin KNN with k= 6\n",
      "Begin KNN with k= 7\n",
      "Begin KNN with k= 8\n",
      "Begin KNN with k= 9\n",
      "Begin KNN with k= 10\n",
      "Begin KNN with k= 11\n",
      "Begin KNN with k= 12\n",
      "Begin KNN with k= 13\n",
      "Begin KNN with k= 14\n",
      "Accuracy:  0.8985\n",
      "Confusion Matrix:\n",
      " [[180   0   0   0   0   0   1   0   2   0]\n",
      " [  0 213   0   1   0   0   1   0   0   0]\n",
      " [  9  11 176   3   1   0   2   6   2   0]\n",
      " [  0   3   2 192   0   4   0   3   2   0]\n",
      " [  0   3   0   0 174   0   4   1   0  23]\n",
      " [  4   1   0  15   0 162   3   2   0   3]\n",
      " [  4   4   0   0   0   3 179   0   0   0]\n",
      " [  0  15   0   0   2   0   0 188   0   5]\n",
      " [  3   4   3   9   5  14   2   2 154   2]\n",
      " [  3   4   0   2   1   1   0   3   0 179]]\n",
      "Best k :  5\n",
      "\n",
      "---------------\n",
      "\n"
     ]
    }
   ],
   "source": [
    "# we try different values for k on the sample (train_images_k, test_images_k)\n",
    "score = []\n",
    "k_max = 0\n",
    "score_max = 0\n",
    "matrix_max = []\n",
    "for k in range(1, 15):\n",
    "  print('Begin KNN with k=',k)\n",
    "  classifier = KNeighborsClassifier(n_neighbors=k)\n",
    "  classifier = classifier.fit(train_images_k, train_labels_k)\n",
    "  pred = classifier.predict(test_images_k)\n",
    "  accuracy = accuracy_score(test_labels_k, pred)\n",
    "  score.append(accuracy)\n",
    "  if (accuracy > score_max):\n",
    "    score_max = accuracy\n",
    "    k_max = k\n",
    "    matrix_max = confusion_matrix(test_labels_k, pred)\n",
    "\n",
    "print(\"\\n---------------\\n\")\n",
    "print(\"Best k : \", k_max)\n",
    "print(\"Confusion Matrix:\\n\", matrix_max)\n",
    "print(\"Accuracy: \",score_max)\n",
    "print(\"\\n---------------\\n\")\n",
    "\n",
    "# By running this cell we get the optimal k "
   ]
  },
  {
   "cell_type": "code",
   "execution_count": 46,
   "metadata": {},
   "outputs": [
    {
     "name": "stdout",
     "output_type": "stream",
     "text": [
      "[[5893    4    2    0    1    4   14    2    1    2]\n",
      " [   1 6721    7    0    0    0    1    9    1    2]\n",
      " [  24   36 5821   10    7    4    6   41    6    3]\n",
      " [   2   12   26 6001    0   34    2   21   17   16]\n",
      " [   3   39    1    1 5724    0    6    5    2   61]\n",
      " [  13    5    3   35    5 5302   38    3    3   14]\n",
      " [  11    9    0    0    4   12 5882    0    0    0]\n",
      " [   1   46   10    2    7    0    0 6165    0   34]\n",
      " [  15   59   10   40   20   51   14   11 5591   40]\n",
      " [  10    6    5   22   34    9    2   39    7 5815]]\n",
      "[[ 974    1    1    0    0    1    2    1    0    0]\n",
      " [   0 1133    2    0    0    0    0    0    0    0]\n",
      " [  11    8  991    2    1    0    1   15    3    0]\n",
      " [   0    3    3  976    1   13    1    6    3    4]\n",
      " [   3    7    0    0  944    0    4    2    1   21]\n",
      " [   5    0    0   12    2  862    4    1    2    4]\n",
      " [   5    3    0    0    3    2  945    0    0    0]\n",
      " [   0   22    4    0    3    0    0  988    0   11]\n",
      " [   8    3    5   13    6   12    5    5  913    4]\n",
      " [   5    7    3    9    7    3    1   10    2  962]]\n",
      "exactitude en apprentissage :  0.9819166666666667\n",
      "exactitude en validation :  0.9688\n",
      "              precision    recall  f1-score   support\n",
      "\n",
      "           0       0.99      0.99      0.99      5923\n",
      "           1       0.97      1.00      0.98      6742\n",
      "           2       0.99      0.98      0.98      5958\n",
      "           3       0.98      0.98      0.98      6131\n",
      "           4       0.99      0.98      0.98      5842\n",
      "           5       0.98      0.98      0.98      5421\n",
      "           6       0.99      0.99      0.99      5918\n",
      "           7       0.98      0.98      0.98      6265\n",
      "           8       0.99      0.96      0.97      5851\n",
      "           9       0.97      0.98      0.97      5949\n",
      "\n",
      "    accuracy                           0.98     60000\n",
      "   macro avg       0.98      0.98      0.98     60000\n",
      "weighted avg       0.98      0.98      0.98     60000\n",
      "\n",
      "              precision    recall  f1-score   support\n",
      "\n",
      "           0       0.96      0.99      0.98       980\n",
      "           1       0.95      1.00      0.98      1135\n",
      "           2       0.98      0.96      0.97      1032\n",
      "           3       0.96      0.97      0.97      1010\n",
      "           4       0.98      0.96      0.97       982\n",
      "           5       0.97      0.97      0.97       892\n",
      "           6       0.98      0.99      0.98       958\n",
      "           7       0.96      0.96      0.96      1028\n",
      "           8       0.99      0.94      0.96       974\n",
      "           9       0.96      0.95      0.95      1009\n",
      "\n",
      "    accuracy                           0.97     10000\n",
      "   macro avg       0.97      0.97      0.97     10000\n",
      "weighted avg       0.97      0.97      0.97     10000\n",
      "\n"
     ]
    },
    {
     "ename": "ValueError",
     "evalue": "multi_class must be in ('ovo', 'ovr')",
     "output_type": "error",
     "traceback": [
      "\u001b[1;31m---------------------------------------------------------------------------\u001b[0m",
      "\u001b[1;31mValueError\u001b[0m                                Traceback (most recent call last)",
      "\u001b[1;32m<ipython-input-46-b45791861b39>\u001b[0m in \u001b[0;36m<module>\u001b[1;34m\u001b[0m\n\u001b[0;32m     17\u001b[0m \u001b[0mprint\u001b[0m\u001b[1;33m(\u001b[0m\u001b[0mclassification_report\u001b[0m\u001b[1;33m(\u001b[0m\u001b[0mtest_labels\u001b[0m\u001b[1;33m,\u001b[0m\u001b[0mpred_val\u001b[0m\u001b[1;33m)\u001b[0m\u001b[1;33m)\u001b[0m\u001b[1;33m\u001b[0m\u001b[1;33m\u001b[0m\u001b[0m\n\u001b[0;32m     18\u001b[0m \u001b[1;31m#aire sous la courbe apprentissage et validation\u001b[0m\u001b[1;33m\u001b[0m\u001b[1;33m\u001b[0m\u001b[1;33m\u001b[0m\u001b[0m\n\u001b[1;32m---> 19\u001b[1;33m \u001b[0mprint\u001b[0m\u001b[1;33m(\u001b[0m\u001b[1;34m'aire sous la courbe en apprentissage : '\u001b[0m\u001b[1;33m,\u001b[0m\u001b[0mroc_auc_score\u001b[0m\u001b[1;33m(\u001b[0m\u001b[0mtrain_labels\u001b[0m\u001b[1;33m,\u001b[0m\u001b[0mpred_appren\u001b[0m\u001b[1;33m)\u001b[0m\u001b[1;33m)\u001b[0m\u001b[1;33m\u001b[0m\u001b[1;33m\u001b[0m\u001b[0m\n\u001b[0m\u001b[0;32m     20\u001b[0m \u001b[0mprint\u001b[0m\u001b[1;33m(\u001b[0m\u001b[1;34m'aire sous la courbe en validation : '\u001b[0m\u001b[1;33m,\u001b[0m\u001b[0mroc_auc_score\u001b[0m\u001b[1;33m(\u001b[0m\u001b[0mtest_labels\u001b[0m\u001b[1;33m,\u001b[0m\u001b[0mpred_val\u001b[0m\u001b[1;33m)\u001b[0m\u001b[1;33m)\u001b[0m\u001b[1;33m\u001b[0m\u001b[1;33m\u001b[0m\u001b[0m\n",
      "\u001b[1;32m~\\AppData\\Local\\Programs\\Python\\Python36\\lib\\site-packages\\sklearn\\utils\\validation.py\u001b[0m in \u001b[0;36minner_f\u001b[1;34m(*args, **kwargs)\u001b[0m\n\u001b[0;32m     61\u001b[0m             \u001b[0mextra_args\u001b[0m \u001b[1;33m=\u001b[0m \u001b[0mlen\u001b[0m\u001b[1;33m(\u001b[0m\u001b[0margs\u001b[0m\u001b[1;33m)\u001b[0m \u001b[1;33m-\u001b[0m \u001b[0mlen\u001b[0m\u001b[1;33m(\u001b[0m\u001b[0mall_args\u001b[0m\u001b[1;33m)\u001b[0m\u001b[1;33m\u001b[0m\u001b[1;33m\u001b[0m\u001b[0m\n\u001b[0;32m     62\u001b[0m             \u001b[1;32mif\u001b[0m \u001b[0mextra_args\u001b[0m \u001b[1;33m<=\u001b[0m \u001b[1;36m0\u001b[0m\u001b[1;33m:\u001b[0m\u001b[1;33m\u001b[0m\u001b[1;33m\u001b[0m\u001b[0m\n\u001b[1;32m---> 63\u001b[1;33m                 \u001b[1;32mreturn\u001b[0m \u001b[0mf\u001b[0m\u001b[1;33m(\u001b[0m\u001b[1;33m*\u001b[0m\u001b[0margs\u001b[0m\u001b[1;33m,\u001b[0m \u001b[1;33m**\u001b[0m\u001b[0mkwargs\u001b[0m\u001b[1;33m)\u001b[0m\u001b[1;33m\u001b[0m\u001b[1;33m\u001b[0m\u001b[0m\n\u001b[0m\u001b[0;32m     64\u001b[0m \u001b[1;33m\u001b[0m\u001b[0m\n\u001b[0;32m     65\u001b[0m             \u001b[1;31m# extra_args > 0\u001b[0m\u001b[1;33m\u001b[0m\u001b[1;33m\u001b[0m\u001b[1;33m\u001b[0m\u001b[0m\n",
      "\u001b[1;32m~\\AppData\\Local\\Programs\\Python\\Python36\\lib\\site-packages\\sklearn\\metrics\\_ranking.py\u001b[0m in \u001b[0;36mroc_auc_score\u001b[1;34m(y_true, y_score, average, sample_weight, max_fpr, multi_class, labels)\u001b[0m\n\u001b[0;32m    534\u001b[0m                              \"instead\".format(max_fpr))\n\u001b[0;32m    535\u001b[0m         \u001b[1;32mif\u001b[0m \u001b[0mmulti_class\u001b[0m \u001b[1;33m==\u001b[0m \u001b[1;34m'raise'\u001b[0m\u001b[1;33m:\u001b[0m\u001b[1;33m\u001b[0m\u001b[1;33m\u001b[0m\u001b[0m\n\u001b[1;32m--> 536\u001b[1;33m             \u001b[1;32mraise\u001b[0m \u001b[0mValueError\u001b[0m\u001b[1;33m(\u001b[0m\u001b[1;34m\"multi_class must be in ('ovo', 'ovr')\"\u001b[0m\u001b[1;33m)\u001b[0m\u001b[1;33m\u001b[0m\u001b[1;33m\u001b[0m\u001b[0m\n\u001b[0m\u001b[0;32m    537\u001b[0m         return _multiclass_roc_auc_score(y_true, y_score, labels,\n\u001b[0;32m    538\u001b[0m                                          multi_class, average, sample_weight)\n",
      "\u001b[1;31mValueError\u001b[0m: multi_class must be in ('ovo', 'ovr')"
     ]
    }
   ],
   "source": [
    "# So now we can do the KNN method with the optimal k on the whole data (train_images, test_images)\n",
    "clf=KNeighborsClassifier(n_neighbors=k_max)\n",
    "clf.fit(train_images,train_labels)\n",
    "\n",
    "# predictions\n",
    "pred_val=clf.predict(test_images)\n",
    "\n",
    "# confusion matrix :\n",
    "print(\"---------------------------\")\n",
    "print(confusion_matrix(test_labels,pred_val))\n",
    "\n",
    "# accuracy\n",
    "exactitude_val=np.sum(test_labels==pred_val)/test_images.shape[0]\n",
    "print('accuracy : ',exactitude_val)\n",
    "\n",
    "# classification report\n",
    "print(classification_report(test_labels,pred_val))\n"
   ]
  }
 ],
 "metadata": {
  "kernelspec": {
   "display_name": "Python 3 (ipykernel)",
   "language": "python",
   "name": "python3"
  },
  "language_info": {
   "codemirror_mode": {
    "name": "ipython",
    "version": 3
   },
   "file_extension": ".py",
   "mimetype": "text/x-python",
   "name": "python",
   "nbconvert_exporter": "python",
   "pygments_lexer": "ipython3",
   "version": "3.6.8"
  }
 },
 "nbformat": 4,
 "nbformat_minor": 4
}
