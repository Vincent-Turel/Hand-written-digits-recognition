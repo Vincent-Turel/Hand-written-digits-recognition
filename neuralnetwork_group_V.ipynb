{
 "cells": [
  {
   "cell_type": "markdown",
   "metadata": {},
   "source": [
    "# CS405 Data Mining\n",
    "## Mélanie Moal, Bastien Fournier, Vincent Turel, Julien Whitfield\n",
    "### 18 november 2021"
   ]
  },
  {
   "cell_type": "markdown",
   "metadata": {},
   "source": [
    "## Convolutional Neural Networks"
   ]
  },
  {
   "cell_type": "code",
   "execution_count": 1,
   "metadata": {},
   "outputs": [],
   "source": [
    "from keras import Input\n",
    "from keras.models import Model\n",
    "from keras import layers\n",
    "from keras.datasets import mnist\n",
    "from tensorflow.keras.utils import to_categorical\n",
    "from keras.preprocessing.image import load_img\n",
    "from keras.preprocessing.image import img_to_array\n",
    "import numpy as np\n",
    "import cv2"
   ]
  },
  {
   "cell_type": "code",
   "execution_count": 2,
   "metadata": {},
   "outputs": [
    {
     "name": "stdout",
     "output_type": "stream",
     "text": [
      "(60000, 28, 28)\n",
      "(60000,)\n",
      "(10000, 28, 28)\n",
      "(10000,)\n"
     ]
    }
   ],
   "source": [
    "# preprocessing of the data\n",
    "(train_images, train_labels),(test_images,test_labels)=mnist.load_data()\n",
    "\n",
    "print(train_images.shape)\n",
    "print(train_labels.shape)\n",
    "print(test_images.shape)\n",
    "print(test_labels.shape)\n",
    "\n",
    "# reshaping : training set contains 60000 and the validation set contains 10000 images\n",
    "X_train=train_images.reshape((60000,28,28,1))\n",
    "X_test=test_images.reshape((10000,28,28,1))\n",
    "\n",
    "# Scaling\n",
    "X_train=X_train/255\n",
    "X_test=X_test/255\n",
    "\n",
    "# One hot encoding\n",
    "y_train=to_categorical(train_labels)\n",
    "y_test=to_categorical(test_labels)"
   ]
  },
  {
   "cell_type": "code",
   "execution_count": 3,
   "metadata": {},
   "outputs": [
    {
     "name": "stderr",
     "output_type": "stream",
     "text": [
      "2022-01-01 02:58:03.788040: I tensorflow/compiler/jit/xla_cpu_device.cc:41] Not creating XLA devices, tf_xla_enable_xla_devices not set\n",
      "2022-01-01 02:58:03.788526: I tensorflow/core/platform/cpu_feature_guard.cc:142] This TensorFlow binary is optimized with oneAPI Deep Neural Network Library (oneDNN) to use the following CPU instructions in performance-critical operations:  AVX2 FMA\n",
      "To enable them in other operations, rebuild TensorFlow with the appropriate compiler flags.\n",
      "2022-01-01 02:58:04.241480: I tensorflow/compiler/mlir/mlir_graph_optimization_pass.cc:116] None of the MLIR optimization passes are enabled (registered 2)\n"
     ]
    },
    {
     "name": "stdout",
     "output_type": "stream",
     "text": [
      "Epoch 1/4\n",
      "938/938 [==============================] - 32s 33ms/step - loss: 0.3643 - accuracy: 0.8867 - val_loss: 0.0571 - val_accuracy: 0.9810\n",
      "Epoch 2/4\n",
      "938/938 [==============================] - 35s 37ms/step - loss: 0.0544 - accuracy: 0.9829 - val_loss: 0.0363 - val_accuracy: 0.9885\n",
      "Epoch 3/4\n",
      "938/938 [==============================] - 34s 36ms/step - loss: 0.0333 - accuracy: 0.9897 - val_loss: 0.0349 - val_accuracy: 0.9880\n",
      "Epoch 4/4\n",
      "938/938 [==============================] - 35s 37ms/step - loss: 0.0260 - accuracy: 0.9922 - val_loss: 0.0434 - val_accuracy: 0.9850\n"
     ]
    },
    {
     "data": {
      "text/plain": [
       "<tensorflow.python.keras.callbacks.History at 0x7f830871a9a0>"
      ]
     },
     "execution_count": 3,
     "metadata": {},
     "output_type": "execute_result"
    }
   ],
   "source": [
    "# building the ConvNet : \n",
    "x0=Input(shape=(28,28,1))\n",
    "\n",
    "# convolutional layers\n",
    "x1=layers.Conv2D(32,(3,3),strides=(1,1),activation='relu', input_shape=(28,28,1))(x0)\n",
    "x2=layers.MaxPooling2D((2,2))(x1)\n",
    "\n",
    "x3=layers.Conv2D(64,(3,3),strides=(1,1),activation='relu')(x2)\n",
    "x4=layers.MaxPooling2D((2,2))(x3)\n",
    "\n",
    "x5=layers.Flatten()(x4)\n",
    "x6=layers.Dense(64,activation='relu')(x5)\n",
    "x7=layers.Dense(10,activation='softmax')(x6)\n",
    "\n",
    "model=Model(inputs=x0,outputs=x7)\n",
    "\n",
    "# compiling and fitting the model\n",
    "model.compile(optimizer='rmsprop',loss='categorical_crossentropy',metrics=['accuracy'])\n",
    "model.fit(X_train,y_train,epochs=4,batch_size=64,validation_data=(X_test,y_test))"
   ]
  }
 ],
 "metadata": {
  "kernelspec": {
   "display_name": "Python 3 (ipykernel)",
   "language": "python",
   "name": "python3"
  },
  "language_info": {
   "codemirror_mode": {
    "name": "ipython",
    "version": 3
   },
   "file_extension": ".py",
   "mimetype": "text/x-python",
   "name": "python",
   "nbconvert_exporter": "python",
   "pygments_lexer": "ipython3",
   "version": "3.8.3"
  }
 },
 "nbformat": 4,
 "nbformat_minor": 4
}
